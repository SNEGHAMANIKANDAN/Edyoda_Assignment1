{
 "cells": [
  {
   "cell_type": "code",
   "execution_count": 1,
   "id": "d8852b13",
   "metadata": {},
   "outputs": [
    {
     "name": "stdout",
     "output_type": "stream",
     "text": [
      "number of even numbers are 7\n",
      "number of odd numbers are 7\n"
     ]
    }
   ],
   "source": [
    "l=[0,2,3,4,5,1,6,8,9,10,11,12,13,7]\n",
    "even =0\n",
    "odd = 0\n",
    "j=0\n",
    "leng=len(l)\n",
    "while j < leng:\n",
    "    if l[j] % 2 == 0:\n",
    "        even+=1\n",
    "    else:\n",
    "        odd+=1\n",
    "    j+=1\n",
    "print(\"number of even numbers are\", even)\n",
    "print(\"number of odd numbers are\", odd)"
   ]
  },
  {
   "cell_type": "code",
   "execution_count": null,
   "id": "5dabb9f1",
   "metadata": {},
   "outputs": [],
   "source": []
  }
 ],
 "metadata": {
  "kernelspec": {
   "display_name": "Python 3 (ipykernel)",
   "language": "python",
   "name": "python3"
  },
  "language_info": {
   "codemirror_mode": {
    "name": "ipython",
    "version": 3
   },
   "file_extension": ".py",
   "mimetype": "text/x-python",
   "name": "python",
   "nbconvert_exporter": "python",
   "pygments_lexer": "ipython3",
   "version": "3.10.1"
  }
 },
 "nbformat": 4,
 "nbformat_minor": 5
}
