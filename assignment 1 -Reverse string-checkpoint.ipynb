{
 "cells": [
  {
   "cell_type": "code",
   "execution_count": 17,
   "id": "d1ee917b",
   "metadata": {},
   "outputs": [
    {
     "name": "stdout",
     "output_type": "stream",
     "text": [
      "Snegha\n",
      "string entered Snegha\n",
      "ahgenS\n"
     ]
    }
   ],
   "source": [
    "var = input()\n",
    "leng=len(var)\n",
    "print (\"string entered\", var)\n",
    "i=0\n",
    "j=-1\n",
    "k=''\n",
    "while i < leng:\n",
    "    k+=var[j]\n",
    "    i+=1\n",
    "    j-=1\n",
    "print (k)\n"
   ]
  },
  {
   "cell_type": "code",
   "execution_count": null,
   "id": "6e11b2cb",
   "metadata": {},
   "outputs": [],
   "source": [
    "\n"
   ]
  },
  {
   "cell_type": "code",
   "execution_count": null,
   "id": "2e89d41f",
   "metadata": {},
   "outputs": [],
   "source": []
  }
 ],
 "metadata": {
  "kernelspec": {
   "display_name": "Python 3 (ipykernel)",
   "language": "python",
   "name": "python3"
  },
  "language_info": {
   "codemirror_mode": {
    "name": "ipython",
    "version": 3
   },
   "file_extension": ".py",
   "mimetype": "text/x-python",
   "name": "python",
   "nbconvert_exporter": "python",
   "pygments_lexer": "ipython3",
   "version": "3.10.1"
  }
 },
 "nbformat": 4,
 "nbformat_minor": 5
}
