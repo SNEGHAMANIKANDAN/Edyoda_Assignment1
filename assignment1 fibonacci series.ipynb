{
 "cells": [
  {
   "cell_type": "code",
   "execution_count": 4,
   "id": "aaa19311",
   "metadata": {},
   "outputs": [
    {
     "name": "stdout",
     "output_type": "stream",
     "text": [
      "50\n",
      "FIBONACCI series till 50 is\n",
      "0 1 1 2 3 5 8 13 21 34 "
     ]
    }
   ],
   "source": [
    "l = int(input ())\n",
    "x=0\n",
    "y=1\n",
    "fib=0\n",
    "#print(x, end = \" \")\n",
    "print(\"FIBONACCI series till\", l ,\"is\")\n",
    "while fib<l:\n",
    "    print(fib, end=\" \") \n",
    "    x=y\n",
    "    y=fib\n",
    "    fib=x+y"
   ]
  },
  {
   "cell_type": "code",
   "execution_count": null,
   "id": "24f83804",
   "metadata": {},
   "outputs": [],
   "source": []
  }
 ],
 "metadata": {
  "kernelspec": {
   "display_name": "Python 3 (ipykernel)",
   "language": "python",
   "name": "python3"
  },
  "language_info": {
   "codemirror_mode": {
    "name": "ipython",
    "version": 3
   },
   "file_extension": ".py",
   "mimetype": "text/x-python",
   "name": "python",
   "nbconvert_exporter": "python",
   "pygments_lexer": "ipython3",
   "version": "3.10.1"
  }
 },
 "nbformat": 4,
 "nbformat_minor": 5
}
